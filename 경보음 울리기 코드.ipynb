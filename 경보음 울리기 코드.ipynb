{
 "cells": [
  {
   "cell_type": "code",
   "execution_count": 7,
   "id": "a9bae231",
   "metadata": {},
   "outputs": [],
   "source": [
    "# 라이브러리 임포트 \n",
    "import winsound as sd\n",
    "import pyautogui, time"
   ]
  },
  {
   "cell_type": "code",
   "execution_count": 30,
   "id": "ac0f8540",
   "metadata": {},
   "outputs": [],
   "source": [
    "# 함수 정의\n",
    "def beepsound() : \n",
    "    fr = 2000         # 범위 : 37 ~ 32767\n",
    "    du = 1000         # 1000ms = 1초\n",
    "    sd.Beep(fr, du)   # winsound.beep(빈도, 지속기간)\n",
    "  \n",
    "beepsound()"
   ]
  },
  {
   "cell_type": "code",
   "execution_count": null,
   "id": "3b643229",
   "metadata": {},
   "outputs": [],
   "source": []
  },
  {
   "cell_type": "code",
   "execution_count": null,
   "id": "2f79de29",
   "metadata": {},
   "outputs": [],
   "source": []
  }
 ],
 "metadata": {
  "kernelspec": {
   "display_name": "Python 3 (ipykernel)",
   "language": "python",
   "name": "python3"
  },
  "language_info": {
   "codemirror_mode": {
    "name": "ipython",
    "version": 3
   },
   "file_extension": ".py",
   "mimetype": "text/x-python",
   "name": "python",
   "nbconvert_exporter": "python",
   "pygments_lexer": "ipython3",
   "version": "3.7.15"
  }
 },
 "nbformat": 4,
 "nbformat_minor": 5
}
